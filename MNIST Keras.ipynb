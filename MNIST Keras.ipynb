{
    "nbformat_minor": 1, 
    "cells": [
        {
            "source": "from keras.datasets import mnist\nfrom keras.utils import to_categorical\nfrom keras.models import Sequential\nfrom keras.layers import Dense,Dropout\n\nbatch_size=128\nnum_classes=10\nepochs=20\n(x_train,y_train),(x_test,y_test)=mnist.load_data()", 
            "cell_type": "code", 
            "metadata": {}, 
            "outputs": [
                {
                    "output_type": "stream", 
                    "name": "stdout", 
                    "text": "Downloading data from https://s3.amazonaws.com/img-datasets/mnist.npz\n10780672/11490434 [===========================>..] - ETA: 0s"
                }
            ], 
            "execution_count": 2
        }, 
        {
            "source": "x_train=x_train.reshape([60000,784])\nx_test=x_test.reshape([10000,784])\nx_train=x_train.astype('float32')\nx_test=x_test.astype('float32')\nx_train /= 255\nx_test /= 255\n\ny_train=to_categorical(y_train,num_classes)\ny_test=to_categorical(y_test,num_classes)", 
            "cell_type": "code", 
            "metadata": {}, 
            "outputs": [], 
            "execution_count": 4
        }, 
        {
            "source": "model = Sequential()\nmodel.add(Dense(512,activation='relu',input_shape=(784,)))\nmodel.add(Dropout(0.2))\nmodel.add(Dense(512,activation='relu'))\nmodel.add(Dropout(0.2))\nmodel.add(Dense(num_classes,activation='softmax'))\n\nmodel.summary()\n\nmodel.compile(loss='categorical_crossentropy',optimizer='sgd',metrics=['accuracy'])", 
            "cell_type": "code", 
            "metadata": {}, 
            "outputs": [
                {
                    "output_type": "stream", 
                    "name": "stdout", 
                    "text": "_________________________________________________________________\nLayer (type)                 Output Shape              Param #   \n=================================================================\ndense_1 (Dense)              (None, 512)               401920    \n_________________________________________________________________\ndropout_1 (Dropout)          (None, 512)               0         \n_________________________________________________________________\ndense_2 (Dense)              (None, 512)               262656    \n_________________________________________________________________\ndropout_2 (Dropout)          (None, 512)               0         \n_________________________________________________________________\ndense_3 (Dense)              (None, 10)                5130      \n=================================================================\nTotal params: 669,706\nTrainable params: 669,706\nNon-trainable params: 0\n_________________________________________________________________\n"
                }
            ], 
            "execution_count": 6
        }, 
        {
            "source": "model.fit(x_train,y_train,batch_size=batch_size,epochs=epochs,validation_data=(x_test,y_test))\nscore=model.evaluate(x_test,y_test,verbose=0)\nprint('test loss: ',score[0])\nprint('test accuracy: ',score[1])", 
            "cell_type": "code", 
            "metadata": {}, 
            "outputs": [
                {
                    "output_type": "stream", 
                    "name": "stdout", 
                    "text": "Train on 60000 samples, validate on 10000 samples\nEpoch 1/20\n60000/60000 [==============================] - 7s - loss: 2.2994 - acc: 0.1257 - val_loss: 2.2982 - val_acc: 0.1135\nEpoch 2/20\n60000/60000 [==============================] - 7s - loss: 2.2982 - acc: 0.1124 - val_loss: 2.2977 - val_acc: 0.1135\nEpoch 3/20\n60000/60000 [==============================] - 7s - loss: 2.2978 - acc: 0.1124 - val_loss: 2.2974 - val_acc: 0.1135\nEpoch 4/20\n60000/60000 [==============================] - 7s - loss: 2.2976 - acc: 0.1124 - val_loss: 2.2972 - val_acc: 0.11350. -  - ETA: 1s - loss: 2.2977 \nEpoch 5/20\n60000/60000 [==============================] - 7s - loss: 2.2974 - acc: 0.1124 - val_loss: 2.2970 - val_acc: 0.1135\nEpoch 6/20\n60000/60000 [==============================] - 7s - loss: 2.2972 - acc: 0.1124 - val_loss: 2.2968 - val_acc: 0.1135\nEpoch 7/20\n60000/60000 [==============================] - 7s - loss: 2.2970 - acc: 0.1124 - val_loss: 2.2966 - val_acc: 0.1135\nEpoch 8/20\n60000/60000 [==============================] - 7s - loss: 2.2969 - acc: 0.1124 - val_loss: 2.2964 - val_acc: 0.1135\nEpoch 9/20\n60000/60000 [==============================] - 7s - loss: 2.2967 - acc: 0.1124 - val_loss: 2.2962 - val_acc: 0.1135\nEpoch 10/20\n60000/60000 [==============================] - 7s - loss: 2.2965 - acc: 0.1124 - val_loss: 2.2960 - val_acc: 0.1135\nEpoch 11/20\n60000/60000 [==============================] - 7s - loss: 2.2963 - acc: 0.1124 - val_loss: 2.2958 - val_acc: 0.1135\nEpoch 12/20\n60000/60000 [==============================] - 7s - loss: 2.2960 - acc: 0.1124 - val_loss: 2.2956 - val_acc: 0.1135\nEpoch 13/20\n60000/60000 [==============================] - 7s - loss: 2.2958 - acc: 0.1124 - val_loss: 2.2953 - val_acc: 0.1135\nEpoch 14/20\n60000/60000 [==============================] - 7s - loss: 2.2956 - acc: 0.1124 - val_loss: 2.2951 - val_acc: 0.1135\nEpoch 15/20\n60000/60000 [==============================] - 7s - loss: 2.2954 - acc: 0.1124 - val_loss: 2.2949 - val_acc: 0.1135\nEpoch 16/20\n60000/60000 [==============================] - 7s - loss: 2.2951 - acc: 0.1124 - val_loss: 2.2946 - val_acc: 0.1135\nEpoch 17/20\n60000/60000 [==============================] - 7s - loss: 2.2949 - acc: 0.1124 - val_loss: 2.2944 - val_acc: 0.1135\nEpoch 18/20\n60000/60000 [==============================] - 7s - loss: 2.2946 - acc: 0.1124 - val_loss: 2.2942 - val_acc: 0.1135\nEpoch 19/20\n60000/60000 [==============================] - 7s - loss: 2.2943 - acc: 0.1124 - val_loss: 2.2939 - val_acc: 0.1135\nEpoch 20/20\n60000/60000 [==============================] - 7s - loss: 2.2941 - acc: 0.1124 - val_loss: 2.2936 - val_acc: 0.1135\n('test loss: ', 2.2935886447906495)\n('test accuracy: ', 0.1135)\n"
                }
            ], 
            "execution_count": 7
        }, 
        {
            "source": "", 
            "cell_type": "code", 
            "metadata": {}, 
            "outputs": [], 
            "execution_count": null
        }
    ], 
    "metadata": {
        "kernelspec": {
            "display_name": "Python 2 with Spark 2.1", 
            "name": "python2-spark21", 
            "language": "python"
        }, 
        "language_info": {
            "mimetype": "text/x-python", 
            "nbconvert_exporter": "python", 
            "version": "2.7.14", 
            "name": "python", 
            "pygments_lexer": "ipython2", 
            "file_extension": ".py", 
            "codemirror_mode": {
                "version": 2, 
                "name": "ipython"
            }
        }
    }, 
    "nbformat": 4
}